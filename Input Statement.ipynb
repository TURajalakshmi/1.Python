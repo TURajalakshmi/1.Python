{
 "cells": [
  {
   "cell_type": "code",
   "execution_count": 9,
   "id": "3e5a5f5e-2562-42ff-8a74-5075ac2388c0",
   "metadata": {},
   "outputs": [
    {
     "name": "stdin",
     "output_type": "stream",
     "text": [
      "Enter the number1: 100\n",
      "Enter the number2: 70\n",
      "Enter the number3: 50\n"
     ]
    },
    {
     "name": "stdout",
     "output_type": "stream",
     "text": [
      "170\n",
      "120\n"
     ]
    }
   ],
   "source": [
    "num1=int(input(\"Enter the number1:\"))\n",
    "num2=int(input(\"Enter the number2:\"))\n",
    "num3=int(input(\"Enter the number3:\"))\n",
    "add=num1+num2\n",
    "sub=add-num3\n",
    "print(add)\n",
    "print(sub)"
   ]
  },
  {
   "cell_type": "code",
   "execution_count": 11,
   "id": "2c1f5d84-6a29-4dfa-9211-52ef52bfc8c0",
   "metadata": {},
   "outputs": [
    {
     "name": "stdin",
     "output_type": "stream",
     "text": [
      "Enter the name1: TU.\n",
      "Enter the name2: Raja\n",
      "Enter the name3: lakshmi\n"
     ]
    },
    {
     "name": "stdout",
     "output_type": "stream",
     "text": [
      "TU.Rajalakshmi\n"
     ]
    }
   ],
   "source": [
    "name1=input(\"Enter the name1:\")\n",
    "name2=input(\"Enter the name2:\")\n",
    "name3=input(\"Enter the name3:\")\n",
    "add=name1+name2+name3\n",
    "print(add)"
   ]
  },
  {
   "cell_type": "code",
   "execution_count": null,
   "id": "865b64d6-3cd7-4642-a637-30e4cfc2cb03",
   "metadata": {},
   "outputs": [],
   "source": []
  }
 ],
 "metadata": {
  "kernelspec": {
   "display_name": "Python [conda env:base] *",
   "language": "python",
   "name": "conda-base-py"
  },
  "language_info": {
   "codemirror_mode": {
    "name": "ipython",
    "version": 3
   },
   "file_extension": ".py",
   "mimetype": "text/x-python",
   "name": "python",
   "nbconvert_exporter": "python",
   "pygments_lexer": "ipython3",
   "version": "3.12.7"
  }
 },
 "nbformat": 4,
 "nbformat_minor": 5
}
