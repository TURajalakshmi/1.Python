{
 "cells": [
  {
   "cell_type": "code",
   "execution_count": 1,
   "id": "36f45b78-cd5d-4ad9-bab9-2975299c8fdc",
   "metadata": {},
   "outputs": [],
   "source": [
    "class Functions():\n",
    "    def OddEven():\n",
    "        num=int(input(\"Enter the number:\"))\n",
    "        if((num%2)==1):\n",
    "            print(\"Odd number\")\n",
    "            message=\"Odd number\"\n",
    "        else:\n",
    "            print(\"Even number\")\n",
    "            message=\"Even number\"\n",
    "        return message\n",
    "    \n",
    "    def BMI():\n",
    "        BMI=int(input(\"Enter the BMI Index:\"))\n",
    "        if(BMI<=18):\n",
    "            print(\"Under weight\")\n",
    "            message=\"Under weight\"\n",
    "        elif(BMI<=25):\n",
    "            print(\"Normal\")\n",
    "            message=\"Normal\"\n",
    "        elif(BMI<=35):\n",
    "            print(\"Very Overweight\")\n",
    "            message=\"Very Overweight\"\n",
    "        else:\n",
    "            print(\"Obeise\")\n",
    "            message=\"Obeise\"\n",
    "        return message"
   ]
  },
  {
   "cell_type": "code",
   "execution_count": 3,
   "id": "d83f9daa-6d18-46eb-84a7-025f505934ef",
   "metadata": {},
   "outputs": [
    {
     "name": "stdin",
     "output_type": "stream",
     "text": [
      "Enter the BMI Index: 46\n"
     ]
    },
    {
     "name": "stdout",
     "output_type": "stream",
     "text": [
      "Obeise\n"
     ]
    },
    {
     "data": {
      "text/plain": [
       "'Obeise'"
      ]
     },
     "execution_count": 3,
     "metadata": {},
     "output_type": "execute_result"
    }
   ],
   "source": [
    "Functions.BMI()"
   ]
  },
  {
   "cell_type": "code",
   "execution_count": 5,
   "id": "e5e53866-d251-46c2-8104-520e3c474c19",
   "metadata": {},
   "outputs": [
    {
     "name": "stdin",
     "output_type": "stream",
     "text": [
      "Enter the number: 4568\n"
     ]
    },
    {
     "name": "stdout",
     "output_type": "stream",
     "text": [
      "Even number\n"
     ]
    },
    {
     "data": {
      "text/plain": [
       "'Even number'"
      ]
     },
     "execution_count": 5,
     "metadata": {},
     "output_type": "execute_result"
    }
   ],
   "source": [
    "Functions.OddEven()"
   ]
  },
  {
   "cell_type": "code",
   "execution_count": null,
   "id": "21098112-a623-4652-b921-642dcc8902d1",
   "metadata": {},
   "outputs": [],
   "source": []
  }
 ],
 "metadata": {
  "kernelspec": {
   "display_name": "Python [conda env:base] *",
   "language": "python",
   "name": "conda-base-py"
  },
  "language_info": {
   "codemirror_mode": {
    "name": "ipython",
    "version": 3
   },
   "file_extension": ".py",
   "mimetype": "text/x-python",
   "name": "python",
   "nbconvert_exporter": "python",
   "pygments_lexer": "ipython3",
   "version": "3.12.7"
  }
 },
 "nbformat": 4,
 "nbformat_minor": 5
}
