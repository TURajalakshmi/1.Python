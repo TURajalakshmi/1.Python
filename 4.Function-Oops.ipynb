{
 "cells": [
  {
   "cell_type": "code",
   "execution_count": 3,
   "id": "d097612d-ad57-408d-bcf7-738be06ea38d",
   "metadata": {},
   "outputs": [],
   "source": [
    "List=[25,46,65,34,10]"
   ]
  },
  {
   "cell_type": "code",
   "execution_count": 5,
   "id": "2fcc924c-fbf6-4d36-b415-fd253c493389",
   "metadata": {},
   "outputs": [],
   "source": [
    "def ageCategory():\n",
    "    for age in List:\n",
    "        if(age<18):\n",
    "            print(\"children\")\n",
    "        elif(age<30):\n",
    "            print(\"adult\")\n",
    "        elif(age<50):\n",
    "            print(\"citizen\")\n",
    "        else:\n",
    "            print(\"Senior citizen\")"
   ]
  },
  {
   "cell_type": "code",
   "execution_count": 7,
   "id": "17a92766-fe22-4c8c-8b20-7cea217ccee5",
   "metadata": {},
   "outputs": [
    {
     "name": "stdout",
     "output_type": "stream",
     "text": [
      "adult\n",
      "citizen\n",
      "Senior citizen\n",
      "citizen\n",
      "children\n"
     ]
    }
   ],
   "source": [
    "ageCategory()"
   ]
  },
  {
   "cell_type": "code",
   "execution_count": 19,
   "id": "ff85bfb3-1978-4941-9ec1-17b538904019",
   "metadata": {},
   "outputs": [
    {
     "name": "stdin",
     "output_type": "stream",
     "text": [
      "Enter the age: 65\n"
     ]
    }
   ],
   "source": [
    "age=int(input(\"Enter the age:\"))"
   ]
  },
  {
   "cell_type": "code",
   "execution_count": 21,
   "id": "d07914cb-0f76-422f-b968-13b0504fdb13",
   "metadata": {},
   "outputs": [],
   "source": [
    "def ageCategory():\n",
    "        if(age<18):\n",
    "            print(\"children\")\n",
    "            cate=\"children\"\n",
    "        elif(age<30):\n",
    "            print(\"adult\")\n",
    "            cate=\"adult\"\n",
    "        elif(age<50):\n",
    "            print(\"citizen\")\n",
    "            cate=\"citizen\"\n",
    "        else:\n",
    "            print(\"Senior citizen\")\n",
    "            cate=\"Senior citizen\"\n",
    "        return cate"
   ]
  },
  {
   "cell_type": "code",
   "execution_count": 23,
   "id": "4b52fa0c-751a-417b-83e6-42c44a6d6f66",
   "metadata": {},
   "outputs": [
    {
     "name": "stdout",
     "output_type": "stream",
     "text": [
      "Senior citizen\n"
     ]
    },
    {
     "data": {
      "text/plain": [
       "'Senior citizen'"
      ]
     },
     "execution_count": 23,
     "metadata": {},
     "output_type": "execute_result"
    }
   ],
   "source": [
    "ageCategory()"
   ]
  },
  {
   "cell_type": "code",
   "execution_count": 25,
   "id": "2fa046fa-7330-4107-8ebf-af72eaeaa383",
   "metadata": {},
   "outputs": [
    {
     "name": "stdout",
     "output_type": "stream",
     "text": [
      "Senior citizen\n"
     ]
    }
   ],
   "source": [
    "agecate=ageCategory()"
   ]
  },
  {
   "cell_type": "code",
   "execution_count": 35,
   "id": "6b41ed4d-39e3-454a-a0fb-ae8fbc9e2218",
   "metadata": {},
   "outputs": [],
   "source": [
    "def OddEven():\n",
    "    num=int(input(\"Enter the number:\"))\n",
    "    if((num%2)==1):\n",
    "        print(\"Odd number\")\n",
    "        message=\"Odd number\"\n",
    "    else:\n",
    "        print(\"Even number\")\n",
    "        message=\"Even number\"\n",
    "    return message"
   ]
  },
  {
   "cell_type": "code",
   "execution_count": 43,
   "id": "2e20ca03-1c69-47af-96c5-c3483203bfa5",
   "metadata": {},
   "outputs": [
    {
     "name": "stdin",
     "output_type": "stream",
     "text": [
      "Enter the number: 29\n"
     ]
    },
    {
     "name": "stdout",
     "output_type": "stream",
     "text": [
      "Odd number\n"
     ]
    }
   ],
   "source": [
    "message=OddEven()"
   ]
  },
  {
   "cell_type": "code",
   "execution_count": 45,
   "id": "f7f200e7-b5d8-49f6-8ae9-29eaf9863d57",
   "metadata": {},
   "outputs": [
    {
     "name": "stdout",
     "output_type": "stream",
     "text": [
      "The given number is odd\n"
     ]
    }
   ],
   "source": [
    "if(message==\"Even number\"):\n",
    "    print(\"The given number is even\")\n",
    "else:\n",
    "    print(\"The given number is odd\")"
   ]
  },
  {
   "cell_type": "code",
   "execution_count": 47,
   "id": "b1791c49-1f80-44c2-bb74-c7109595df6f",
   "metadata": {},
   "outputs": [],
   "source": [
    "def BMI():\n",
    "    BMI=int(input(\"Enter the BMI Index:\"))\n",
    "    if(BMI<=18):\n",
    "        print(\"Under weight\")\n",
    "        message=\"Under weight\"\n",
    "    elif(BMI<=25):\n",
    "        print(\"Normal\")\n",
    "        message=\"Normal\"\n",
    "    elif(BMI<=35):\n",
    "        print(\"Very Overweight\")\n",
    "        message=\"Very Overweight\"\n",
    "    else:\n",
    "        print(\"Obeise\")\n",
    "        message=\"Obeise\"\n",
    "    return message"
   ]
  },
  {
   "cell_type": "code",
   "execution_count": 49,
   "id": "5cfc7cd8-4a67-48e6-b08a-eed61e527cce",
   "metadata": {},
   "outputs": [
    {
     "name": "stdin",
     "output_type": "stream",
     "text": [
      "Enter the BMI Index: 38\n"
     ]
    },
    {
     "name": "stdout",
     "output_type": "stream",
     "text": [
      "Obeise\n"
     ]
    }
   ],
   "source": [
    "message=BMI()"
   ]
  },
  {
   "cell_type": "code",
   "execution_count": 51,
   "id": "aa3d6125-5b39-4a88-acdd-88b91cd6f46a",
   "metadata": {},
   "outputs": [
    {
     "data": {
      "text/plain": [
       "'Obeise'"
      ]
     },
     "execution_count": 51,
     "metadata": {},
     "output_type": "execute_result"
    }
   ],
   "source": [
    "message"
   ]
  },
  {
   "cell_type": "code",
   "execution_count": 59,
   "id": "952aea60-9971-4fdb-8ae2-b3741429071f",
   "metadata": {},
   "outputs": [],
   "source": [
    "def addition(num1,num2,num3):\n",
    "    add=num1+num2+num3\n",
    "    return add"
   ]
  },
  {
   "cell_type": "code",
   "execution_count": 61,
   "id": "39c782da-ffd7-46e2-acf8-c858d74517dd",
   "metadata": {},
   "outputs": [
    {
     "data": {
      "text/plain": [
       "1160"
      ]
     },
     "execution_count": 61,
     "metadata": {},
     "output_type": "execute_result"
    }
   ],
   "source": [
    "addition(20,572,568)"
   ]
  },
  {
   "cell_type": "code",
   "execution_count": null,
   "id": "ff20e443-94ec-401c-9c9a-066df966b5e2",
   "metadata": {},
   "outputs": [],
   "source": []
  }
 ],
 "metadata": {
  "kernelspec": {
   "display_name": "Python [conda env:base] *",
   "language": "python",
   "name": "conda-base-py"
  },
  "language_info": {
   "codemirror_mode": {
    "name": "ipython",
    "version": 3
   },
   "file_extension": ".py",
   "mimetype": "text/x-python",
   "name": "python",
   "nbconvert_exporter": "python",
   "pygments_lexer": "ipython3",
   "version": "3.12.7"
  }
 },
 "nbformat": 4,
 "nbformat_minor": 5
}
