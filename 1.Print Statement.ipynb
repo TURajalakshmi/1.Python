{
 "cells": [
  {
   "cell_type": "code",
   "execution_count": 1,
   "id": "db545b6e-5d50-46c0-8c75-8451ec645457",
   "metadata": {},
   "outputs": [
    {
     "name": "stdout",
     "output_type": "stream",
     "text": [
      "Hope\n"
     ]
    }
   ],
   "source": [
    "print(\"Hope\")"
   ]
  },
  {
   "cell_type": "code",
   "execution_count": 3,
   "id": "e4feaef4-cfa6-4429-86e6-57396b916a8b",
   "metadata": {},
   "outputs": [
    {
     "name": "stdout",
     "output_type": "stream",
     "text": [
      "Hope 5@\n"
     ]
    }
   ],
   "source": [
    "print(\"Hope 5@\")"
   ]
  },
  {
   "cell_type": "code",
   "execution_count": null,
   "id": "fff9a7c6-49d2-418f-ad94-7b1040d36498",
   "metadata": {},
   "outputs": [],
   "source": []
  }
 ],
 "metadata": {
  "kernelspec": {
   "display_name": "Python [conda env:base] *",
   "language": "python",
   "name": "conda-base-py"
  },
  "language_info": {
   "codemirror_mode": {
    "name": "ipython",
    "version": 3
   },
   "file_extension": ".py",
   "mimetype": "text/x-python",
   "name": "python",
   "nbconvert_exporter": "python",
   "pygments_lexer": "ipython3",
   "version": "3.12.7"
  }
 },
 "nbformat": 4,
 "nbformat_minor": 5
}
