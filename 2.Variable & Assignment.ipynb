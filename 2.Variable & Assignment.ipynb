{
 "cells": [
  {
   "cell_type": "code",
   "execution_count": 45,
   "id": "d5237bc1-3327-40a0-961c-ced343f9aa31",
   "metadata": {},
   "outputs": [
    {
     "name": "stdout",
     "output_type": "stream",
     "text": [
      "Ans1 -  110\n",
      "Ans2 -  40\n"
     ]
    }
   ],
   "source": [
    "Num1=40\n",
    "Num2=70\n",
    "Num3=70\n",
    "add=Num1+Num2\n",
    "sub=add-Num3\n",
    "print(\"Ans1 - \",add)\n",
    "print(\"Ans2 - \",sub)"
   ]
  },
  {
   "cell_type": "code",
   "execution_count": 43,
   "id": "81af5d91-9575-4879-ba14-5b47a6973450",
   "metadata": {},
   "outputs": [
    {
     "name": "stdout",
     "output_type": "stream",
     "text": [
      "Answer1 - 200\n",
      "Answer2 - 66.66666666666667\n"
     ]
    }
   ],
   "source": [
    "Num1=40\n",
    "Num2=5\n",
    "Num3=3\n",
    "Multi=Num1*Num2\n",
    "divi=Multi/Num3\n",
    "print(\"Answer1 -\",Multi)\n",
    "print(\"Answer2 -\",divi)"
   ]
  },
  {
   "cell_type": "code",
   "execution_count": 21,
   "id": "05b10f37-c9ee-4e1d-8a83-88831a3b7ba2",
   "metadata": {},
   "outputs": [
    {
     "name": "stdout",
     "output_type": "stream",
     "text": [
      "The addition of two numbers\n",
      "The number1: 10\n",
      "The number2: 20\n",
      "The answer: 30\n"
     ]
    }
   ],
   "source": [
    "print(\"The addition of two numbers\")\n",
    "num1=10\n",
    "num2=20\n",
    "print(\"The number1:\",num1)\n",
    "print(\"The number2:\",num2)\n",
    "print(\"The answer:\",num1+num2)"
   ]
  },
  {
   "cell_type": "code",
   "execution_count": null,
   "id": "1628b36e-c47e-4e10-8746-bd424f0deaca",
   "metadata": {},
   "outputs": [],
   "source": []
  }
 ],
 "metadata": {
  "kernelspec": {
   "display_name": "Python [conda env:base] *",
   "language": "python",
   "name": "conda-base-py"
  },
  "language_info": {
   "codemirror_mode": {
    "name": "ipython",
    "version": 3
   },
   "file_extension": ".py",
   "mimetype": "text/x-python",
   "name": "python",
   "nbconvert_exporter": "python",
   "pygments_lexer": "ipython3",
   "version": "3.12.7"
  }
 },
 "nbformat": 4,
 "nbformat_minor": 5
}
